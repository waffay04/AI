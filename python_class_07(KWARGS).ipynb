{
  "nbformat": 4,
  "nbformat_minor": 0,
  "metadata": {
    "colab": {
      "name": "python class_07(KWARGS)",
      "version": "0.3.2",
      "provenance": [],
      "include_colab_link": true
    },
    "kernelspec": {
      "name": "python3",
      "display_name": "Python 3"
    }
  },
  "cells": [
    {
      "cell_type": "markdown",
      "metadata": {
        "id": "view-in-github",
        "colab_type": "text"
      },
      "source": [
        "<a href=\"https://colab.research.google.com/github/waffay04/AI/blob/master/python_class_07(KWARGS).ipynb\" target=\"_parent\"><img src=\"https://colab.research.google.com/assets/colab-badge.svg\" alt=\"Open In Colab\"/></a>"
      ]
    },
    {
      "cell_type": "markdown",
      "metadata": {
        "id": "vdb8MyworhkC",
        "colab_type": "text"
      },
      "source": [
        "# #ARGUMENTS _ #KEYWORD_ARGs"
      ]
    },
    {
      "cell_type": "code",
      "metadata": {
        "id": "-Bgt2XBCryHR",
        "colab_type": "code",
        "colab": {}
      },
      "source": [
        "def car(model, year):\n",
        "  print(model, year)"
      ],
      "execution_count": 0,
      "outputs": []
    },
    {
      "cell_type": "code",
      "metadata": {
        "id": "RjyrjSjysAtU",
        "colab_type": "code",
        "outputId": "6b93029c-421d-40f6-aa6e-197ba4463f06",
        "colab": {
          "base_uri": "https://localhost:8080/",
          "height": 34
        }
      },
      "source": [
        "car('corolla', 2019)"
      ],
      "execution_count": 0,
      "outputs": [
        {
          "output_type": "stream",
          "text": [
            "corolla 2019\n"
          ],
          "name": "stdout"
        }
      ]
    },
    {
      "cell_type": "code",
      "metadata": {
        "id": "X9Izm5HysGjm",
        "colab_type": "code",
        "outputId": "595bdc13-7015-409b-b6e2-f9aa2ef9a51e",
        "colab": {
          "base_uri": "https://localhost:8080/",
          "height": 34
        }
      },
      "source": [
        "car(2019, 'toyota')"
      ],
      "execution_count": 0,
      "outputs": [
        {
          "output_type": "stream",
          "text": [
            "2019 toyota\n"
          ],
          "name": "stdout"
        }
      ]
    },
    {
      "cell_type": "code",
      "metadata": {
        "id": "OiQ1-mbIsNIY",
        "colab_type": "code",
        "outputId": "fb463509-9ed2-491b-c55c-973f7e9557b7",
        "colab": {
          "base_uri": "https://localhost:8080/",
          "height": 34
        }
      },
      "source": [
        "car(year=2018, model='toyota')"
      ],
      "execution_count": 0,
      "outputs": [
        {
          "output_type": "stream",
          "text": [
            "toyota 2018\n"
          ],
          "name": "stdout"
        }
      ]
    },
    {
      "cell_type": "code",
      "metadata": {
        "id": "aXytlVsJsXqU",
        "colab_type": "code",
        "colab": {}
      },
      "source": [
        "def name(f_name,l_name):\n",
        "  print(f'first name: {f_name}')\n",
        "  print(f'last name: {l_name}')\n",
        " "
      ],
      "execution_count": 0,
      "outputs": []
    },
    {
      "cell_type": "code",
      "metadata": {
        "id": "7vIy3RqPszKu",
        "colab_type": "code",
        "outputId": "2bed075b-d0f2-499f-e24e-f18819b540cb",
        "colab": {
          "base_uri": "https://localhost:8080/",
          "height": 51
        }
      },
      "source": [
        "name('hussain','ali')"
      ],
      "execution_count": 0,
      "outputs": [
        {
          "output_type": "stream",
          "text": [
            "first name: hussain\n",
            "last name: ali\n"
          ],
          "name": "stdout"
        }
      ]
    },
    {
      "cell_type": "code",
      "metadata": {
        "id": "no1BWFNrs4bt",
        "colab_type": "code",
        "outputId": "aa588c7f-1008-4a4c-91ba-8a7e17eac0cd",
        "colab": {
          "base_uri": "https://localhost:8080/",
          "height": 51
        }
      },
      "source": [
        "name(f_name='ali', l_name='hussain')"
      ],
      "execution_count": 0,
      "outputs": [
        {
          "output_type": "stream",
          "text": [
            "first name: ali\n",
            "last name: hussain\n"
          ],
          "name": "stdout"
        }
      ]
    },
    {
      "cell_type": "code",
      "metadata": {
        "id": "65BPLdc6tB8b",
        "colab_type": "code",
        "outputId": "2fa6bd8d-fcf5-4bc9-d65c-52134fc60b95",
        "colab": {
          "base_uri": "https://localhost:8080/",
          "height": 51
        }
      },
      "source": [
        "name(l_name='hussain', f_name='ali')"
      ],
      "execution_count": 0,
      "outputs": [
        {
          "output_type": "stream",
          "text": [
            "first name: ali\n",
            "last name: hussain\n"
          ],
          "name": "stdout"
        }
      ]
    },
    {
      "cell_type": "code",
      "metadata": {
        "id": "D27RO0rMtLOz",
        "colab_type": "code",
        "colab": {}
      },
      "source": [
        "def name(f_name,m_name,l_name):\n",
        "  print(f'first name: {f_name}')\n",
        "  print(f'middle name: {m_name}')\n",
        "  print(f'last name: {l_name}')\n",
        "  "
      ],
      "execution_count": 0,
      "outputs": []
    },
    {
      "cell_type": "code",
      "metadata": {
        "id": "_iwGvcw0v2fq",
        "colab_type": "code",
        "outputId": "31019037-2dfd-413c-dcdf-340e2fc63951",
        "colab": {
          "base_uri": "https://localhost:8080/",
          "height": 129
        }
      },
      "source": [
        "name('john',m_name='walten','smith')"
      ],
      "execution_count": 0,
      "outputs": [
        {
          "output_type": "error",
          "ename": "SyntaxError",
          "evalue": "ignored",
          "traceback": [
            "\u001b[0;36m  File \u001b[0;32m\"<ipython-input-10-91c9d34bf835>\"\u001b[0;36m, line \u001b[0;32m1\u001b[0m\n\u001b[0;31m    name('john',m_name='walten','smith')\u001b[0m\n\u001b[0m                               ^\u001b[0m\n\u001b[0;31mSyntaxError\u001b[0m\u001b[0;31m:\u001b[0m positional argument follows keyword argument\n"
          ]
        }
      ]
    },
    {
      "cell_type": "code",
      "metadata": {
        "id": "0ezpDF4FwAKc",
        "colab_type": "code",
        "colab": {}
      },
      "source": [
        "def name(f_name,l_name,m_name):\n",
        "  print(f'first name: {f_name}')\n",
        "  print(f'middle name: {m_name}')\n",
        "  print(f'last name: {l_name}')\n",
        "  "
      ],
      "execution_count": 0,
      "outputs": []
    },
    {
      "cell_type": "code",
      "metadata": {
        "id": "IHk_ahCKwOPq",
        "colab_type": "code",
        "outputId": "7660d0a9-8b33-4c5b-c602-69c16a9cd4b4",
        "colab": {
          "base_uri": "https://localhost:8080/",
          "height": 68
        }
      },
      "source": [
        "name('john' , 'smith' ,  m_name='walten')"
      ],
      "execution_count": 0,
      "outputs": [
        {
          "output_type": "stream",
          "text": [
            "first name: john\n",
            "middle name: walten\n",
            "last name: smith\n"
          ],
          "name": "stdout"
        }
      ]
    },
    {
      "cell_type": "markdown",
      "metadata": {
        "id": "j2fBi5nJxwmd",
        "colab_type": "text"
      },
      "source": [
        "# ARBITARY NUMBER OF ARGUMENTS"
      ]
    },
    {
      "cell_type": "code",
      "metadata": {
        "id": "nAOix5lqx3J2",
        "colab_type": "code",
        "colab": {}
      },
      "source": [
        "def pizza(size, flavour , *toppings):\n",
        "  print(size , flavour)\n",
        "  print(toppings)"
      ],
      "execution_count": 0,
      "outputs": []
    },
    {
      "cell_type": "code",
      "metadata": {
        "id": "t54VB0WGyT-j",
        "colab_type": "code",
        "outputId": "d081f96e-b955-4773-b05c-2a379de9e88c",
        "colab": {
          "base_uri": "https://localhost:8080/",
          "height": 51
        }
      },
      "source": [
        "pizza('large' , 'malai boti' , 'extra cheese' , 'olives')"
      ],
      "execution_count": 0,
      "outputs": [
        {
          "output_type": "stream",
          "text": [
            "large malai boti\n",
            "('extra cheese', 'olives')\n"
          ],
          "name": "stdout"
        }
      ]
    },
    {
      "cell_type": "code",
      "metadata": {
        "id": "WfHLV4UbylQB",
        "colab_type": "code",
        "outputId": "22c74a3e-db8f-4348-d810-6d05a05b9b2f",
        "colab": {
          "base_uri": "https://localhost:8080/",
          "height": 51
        }
      },
      "source": [
        "pizza('large' , 'malai boti' , 'extra cheese')"
      ],
      "execution_count": 0,
      "outputs": [
        {
          "output_type": "stream",
          "text": [
            "large malai boti\n",
            "('extra cheese',)\n"
          ],
          "name": "stdout"
        }
      ]
    },
    {
      "cell_type": "code",
      "metadata": {
        "id": "PfZEbyJny2tS",
        "colab_type": "code",
        "outputId": "3d7019e7-6cc3-4f30-8dd1-43cc9238af83",
        "colab": {
          "base_uri": "https://localhost:8080/",
          "height": 51
        }
      },
      "source": [
        "pizza('large' , 'arabic feast' , 'extra pepperoni' , 'extra cheese' , 'extra mashrooms')"
      ],
      "execution_count": 0,
      "outputs": [
        {
          "output_type": "stream",
          "text": [
            "large arabic feast\n",
            "('extra pepperoni', 'extra cheese', 'extra mashrooms')\n"
          ],
          "name": "stdout"
        }
      ]
    },
    {
      "cell_type": "code",
      "metadata": {
        "id": "GfuiciFD0saJ",
        "colab_type": "code",
        "colab": {}
      },
      "source": [
        "def car(make , model , **specs):\n",
        "  print(make , model)\n",
        "  print(specs)"
      ],
      "execution_count": 0,
      "outputs": []
    },
    {
      "cell_type": "code",
      "metadata": {
        "id": "8osXiyYa3nHX",
        "colab_type": "code",
        "outputId": "400a9c87-5655-4be1-bccd-52b2fd549ff0",
        "colab": {
          "base_uri": "https://localhost:8080/",
          "height": 51
        }
      },
      "source": [
        "car('toyota' , 'prius' , transmission='automatic' , power = 'yes')"
      ],
      "execution_count": 0,
      "outputs": [
        {
          "output_type": "stream",
          "text": [
            "toyota prius\n",
            "{'transmission': 'automatic', 'power': 'yes'}\n"
          ],
          "name": "stdout"
        }
      ]
    },
    {
      "cell_type": "markdown",
      "metadata": {
        "id": "aUm62wBx6iPT",
        "colab_type": "text"
      },
      "source": [
        "# FUNCTIONS AS A VARIABLE"
      ]
    },
    {
      "cell_type": "code",
      "metadata": {
        "id": "s2atH4m24B1Q",
        "colab_type": "code",
        "colab": {}
      },
      "source": [
        "def add(a, b):\n",
        "  c = a + b\n",
        "  return c"
      ],
      "execution_count": 0,
      "outputs": []
    },
    {
      "cell_type": "code",
      "metadata": {
        "id": "J1x8KLxe57jn",
        "colab_type": "code",
        "colab": {}
      },
      "source": [
        "def sub(a, b):\n",
        "  c = a - b\n",
        "  return c"
      ],
      "execution_count": 0,
      "outputs": []
    },
    {
      "cell_type": "code",
      "metadata": {
        "id": "cOsuibjU6C8n",
        "colab_type": "code",
        "colab": {}
      },
      "source": [
        "result = add(2,2) + sub(6,3)"
      ],
      "execution_count": 0,
      "outputs": []
    },
    {
      "cell_type": "code",
      "metadata": {
        "id": "1sy39o7v6WcL",
        "colab_type": "code",
        "outputId": "39364710-b87d-47a6-e43e-02a4aefb5150",
        "colab": {
          "base_uri": "https://localhost:8080/",
          "height": 34
        }
      },
      "source": [
        "print(result)"
      ],
      "execution_count": 0,
      "outputs": [
        {
          "output_type": "stream",
          "text": [
            "7\n"
          ],
          "name": "stdout"
        }
      ]
    },
    {
      "cell_type": "code",
      "metadata": {
        "id": "flK0XQac6zPo",
        "colab_type": "code",
        "colab": {
          "base_uri": "https://localhost:8080/",
          "height": 34
        },
        "outputId": "6b962a29-5a45-4278-ae6e-9c5126741df7"
      },
      "source": [
        "result = add('nasir' , 'hussain')\n",
        "print(result)"
      ],
      "execution_count": 39,
      "outputs": [
        {
          "output_type": "stream",
          "text": [
            "nasirhussain\n"
          ],
          "name": "stdout"
        }
      ]
    },
    {
      "cell_type": "markdown",
      "metadata": {
        "id": "1fj-TIwH9pYd",
        "colab_type": "text"
      },
      "source": [
        "# WHILE_LOOP"
      ]
    },
    {
      "cell_type": "code",
      "metadata": {
        "id": "9sWBtvSW9jG_",
        "colab_type": "code",
        "colab": {
          "base_uri": "https://localhost:8080/",
          "height": 187
        },
        "outputId": "1221809d-54f8-466f-f546-6255ea34ee64"
      },
      "source": [
        "for a in range(10):\n",
        "  print(a)\n"
      ],
      "execution_count": 41,
      "outputs": [
        {
          "output_type": "stream",
          "text": [
            "0\n",
            "1\n",
            "2\n",
            "3\n",
            "4\n",
            "5\n",
            "6\n",
            "7\n",
            "8\n",
            "9\n"
          ],
          "name": "stdout"
        }
      ]
    },
    {
      "cell_type": "code",
      "metadata": {
        "id": "iW1XSaIx95ag",
        "colab_type": "code",
        "colab": {
          "base_uri": "https://localhost:8080/",
          "height": 187
        },
        "outputId": "0df403d7-1615-4309-f229-8f9de456a73b"
      },
      "source": [
        "a = 0\n",
        "\n",
        "while a<10:\n",
        "  print(a)\n",
        "  a = a + 1"
      ],
      "execution_count": 42,
      "outputs": [
        {
          "output_type": "stream",
          "text": [
            "0\n",
            "1\n",
            "2\n",
            "3\n",
            "4\n",
            "5\n",
            "6\n",
            "7\n",
            "8\n",
            "9\n"
          ],
          "name": "stdout"
        }
      ]
    },
    {
      "cell_type": "code",
      "metadata": {
        "id": "G4sXn8h2-LTC",
        "colab_type": "code",
        "colab": {
          "base_uri": "https://localhost:8080/",
          "height": 119
        },
        "outputId": "025c1df5-301a-4e12-f3ba-30a515e65991"
      },
      "source": [
        "topping = []\n",
        "for a in range(5):\n",
        "  toppings = input('enter a topping ')\n",
        "  topping.append(toppings)\n",
        "  \n",
        "  \n",
        "print(toppings)"
      ],
      "execution_count": 44,
      "outputs": [
        {
          "output_type": "stream",
          "text": [
            "enter a topping cheese\n",
            "enter a topping chilli\n",
            "enter a topping mashrooms\n",
            "enter a topping sauces\n",
            "enter a topping pepperoni\n",
            "pepperoni\n"
          ],
          "name": "stdout"
        }
      ]
    },
    {
      "cell_type": "code",
      "metadata": {
        "id": "U_7svH8uCzx3",
        "colab_type": "code",
        "colab": {
          "base_uri": "https://localhost:8080/",
          "height": 119
        },
        "outputId": "65f7b448-c7dc-4a7c-f070-1ab7842ea509"
      },
      "source": [
        "toppings = []\n",
        "flag = True\n",
        "\n",
        "while flag:\n",
        "  topping = input('Enter a topping ')\n",
        "  toppings.append(topping)\n",
        "  if topping == 'q':\n",
        "    flag = False\n",
        "    \n",
        "print(toppings)"
      ],
      "execution_count": 58,
      "outputs": [
        {
          "output_type": "stream",
          "text": [
            "Enter a topping cheese\n",
            "Enter a topping pepperoni\n",
            "Enter a topping mashrooms\n",
            "Enter a topping sauces\n",
            "Enter a topping q\n",
            "['cheese', 'pepperoni', 'mashrooms', 'sauces', 'q']\n"
          ],
          "name": "stdout"
        }
      ]
    },
    {
      "cell_type": "code",
      "metadata": {
        "id": "rGh7CtFaDEav",
        "colab_type": "code",
        "colab": {
          "base_uri": "https://localhost:8080/",
          "height": 85
        },
        "outputId": "e3ff5b2d-4be8-4ad9-e7b9-e8716c9e6e30"
      },
      "source": [
        "toppings = []\n",
        "flag = True\n",
        "\n",
        "while flag:\n",
        "  topping = input('Enter a topping ')\n",
        "  if topping == 'q':\n",
        "    flag = False\n",
        "  else:\n",
        "    toppings.append(topping)\n",
        "    \n",
        "    \n",
        "print(toppings)"
      ],
      "execution_count": 59,
      "outputs": [
        {
          "output_type": "stream",
          "text": [
            "Enter a topping mashrooms\n",
            "Enter a topping falvours\n",
            "Enter a topping q\n",
            "['mashrooms', 'falvours']\n"
          ],
          "name": "stdout"
        }
      ]
    },
    {
      "cell_type": "code",
      "metadata": {
        "id": "HOc9NBYOF1oL",
        "colab_type": "code",
        "colab": {
          "base_uri": "https://localhost:8080/",
          "height": 206
        },
        "outputId": "1bd0be30-0c4b-495a-e1df-82a3117822d7"
      },
      "source": [
        "avail_flav = ['malai boti' , 'pepperoni feast' , 'afghani']\n",
        "avail_size = ['large' , 'medium' , 'small']\n",
        "avail_toppings = ['olive' , 'cheese' , 'herbs']\n",
        "print('pizza order')\n",
        "print()\n",
        "print()\n",
        "flag = True\n",
        "while flag:\n",
        "  size = input('Enter pizza size')\n",
        "  if size not in avail_size:\n",
        "    print(f'{size} not available')\n",
        "    print('please Enter the size again')\n",
        "    size = input('enter pizza size')\n",
        "  \n",
        "    "
      ],
      "execution_count": 0,
      "outputs": [
        {
          "output_type": "stream",
          "text": [
            "pizza order\n",
            "\n",
            "\n",
            "Enter pizza sizehhjj\n",
            "hhjj not available\n",
            "please Enter the size again\n",
            "enter pizza sizejzjkzj]\n",
            "Enter pizza sizennnn\n",
            "nnnn not available\n",
            "please Enter the size again\n"
          ],
          "name": "stdout"
        }
      ]
    },
    {
      "cell_type": "code",
      "metadata": {
        "id": "ttk9Cby0LVqg",
        "colab_type": "code",
        "colab": {}
      },
      "source": [
        ""
      ],
      "execution_count": 0,
      "outputs": []
    }
  ]
}