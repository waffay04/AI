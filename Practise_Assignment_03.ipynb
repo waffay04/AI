{
  "nbformat": 4,
  "nbformat_minor": 0,
  "metadata": {
    "colab": {
      "name": "Practise Assignment 3.ipynb",
      "version": "0.3.2",
      "provenance": [],
      "include_colab_link": true
    },
    "language_info": {
      "codemirror_mode": {
        "name": "ipython",
        "version": 3
      },
      "file_extension": ".py",
      "mimetype": "text/x-python",
      "name": "python",
      "nbconvert_exporter": "python",
      "pygments_lexer": "ipython3",
      "version": "3.6.4"
    },
    "kernelspec": {
      "display_name": "Python 3",
      "language": "python",
      "name": "python3"
    }
  },
  "cells": [
    {
      "cell_type": "markdown",
      "metadata": {
        "id": "view-in-github",
        "colab_type": "text"
      },
      "source": [
        "<a href=\"https://colab.research.google.com/github/waffay04/AI/blob/master/Practise_Assignment_03.ipynb\" target=\"_parent\"><img src=\"https://colab.research.google.com/assets/colab-badge.svg\" alt=\"Open In Colab\"/></a>"
      ]
    },
    {
      "cell_type": "markdown",
      "metadata": {
        "id": "jj7yjbVM7omn",
        "colab_type": "text"
      },
      "source": [
        "# Q1:"
      ]
    },
    {
      "cell_type": "markdown",
      "metadata": {
        "id": "7pe-kliH7omp",
        "colab_type": "text"
      },
      "source": [
        "Think of at least three kinds of your favorite pizza. Store these pizza names in a list, and then use a for loop to print the name of each pizza."
      ]
    },
    {
      "cell_type": "code",
      "metadata": {
        "id": "IFmE4z547omq",
        "colab_type": "code",
        "outputId": "d5915ed3-7277-46b6-965d-3029c439c88f",
        "colab": {
          "base_uri": "https://localhost:8080/",
          "height": 68
        }
      },
      "source": [
        "FavPizzas = [\"Chicken Tikka\",\"Green Chilli\",\"Arabic Green\"]\n",
        "for pizza in FavPizzas:\n",
        "    print(pizza)"
      ],
      "execution_count": 0,
      "outputs": [
        {
          "output_type": "stream",
          "text": [
            "Chicken Tikka\n",
            "Green Chilli\n",
            "Arabic Green\n"
          ],
          "name": "stdout"
        }
      ]
    },
    {
      "cell_type": "code",
      "metadata": {
        "id": "HA5L3tAE7omv",
        "colab_type": "code",
        "colab": {}
      },
      "source": [
        ""
      ],
      "execution_count": 0,
      "outputs": []
    },
    {
      "cell_type": "code",
      "metadata": {
        "id": "WH4fNW3B7omy",
        "colab_type": "code",
        "colab": {}
      },
      "source": [
        ""
      ],
      "execution_count": 0,
      "outputs": []
    },
    {
      "cell_type": "markdown",
      "metadata": {
        "id": "QNRIG7Lj7om3",
        "colab_type": "text"
      },
      "source": [
        "# Q2"
      ]
    },
    {
      "cell_type": "markdown",
      "metadata": {
        "id": "Nl5fnWlS7om4",
        "colab_type": "text"
      },
      "source": [
        "Start with your last question , Modify your for loop to print a sentence using the name of the pizza\n",
        "instead of printing just the name of the pizza. For each pizza you should\n",
        "have one line of output containing a simple statement like I like pepperoni\n",
        "pizza."
      ]
    },
    {
      "cell_type": "code",
      "metadata": {
        "id": "xYbfXMeH7om5",
        "colab_type": "code",
        "outputId": "42affb81-d933-494c-f0f4-d3ea60203d47",
        "colab": {
          "base_uri": "https://localhost:8080/",
          "height": 68
        }
      },
      "source": [
        "FavPizzas = [\"pepperoni feast \" , \"malai boti\" , \"cheesy\"]\n",
        "for pizza in FavPizzas:\n",
        "    print(\" i like \" + pizza + \" Pizza . \" )\n",
        "    "
      ],
      "execution_count": 0,
      "outputs": [
        {
          "output_type": "stream",
          "text": [
            " i like pepperoni feast  Pizza . \n",
            " i like malai boti Pizza . \n",
            " i like cheesy Pizza . \n"
          ],
          "name": "stdout"
        }
      ]
    },
    {
      "cell_type": "code",
      "metadata": {
        "id": "0cXjiebd7om8",
        "colab_type": "code",
        "colab": {}
      },
      "source": [
        ""
      ],
      "execution_count": 0,
      "outputs": []
    },
    {
      "cell_type": "code",
      "metadata": {
        "id": "wxVrrwsg7onA",
        "colab_type": "code",
        "colab": {}
      },
      "source": [
        ""
      ],
      "execution_count": 0,
      "outputs": []
    },
    {
      "cell_type": "markdown",
      "metadata": {
        "id": "wwDiC-kg7onD",
        "colab_type": "text"
      },
      "source": [
        "# Q3:"
      ]
    },
    {
      "cell_type": "markdown",
      "metadata": {
        "id": "PuMhUpra7onE",
        "colab_type": "text"
      },
      "source": [
        "Use a for loop to print the numbers from 1 to 20,\n",
        "inclusive."
      ]
    },
    {
      "cell_type": "code",
      "metadata": {
        "id": "tncN1nmT7onF",
        "colab_type": "code",
        "outputId": "58970e95-c0ea-4597-f5b6-e5defa01d795",
        "colab": {
          "base_uri": "https://localhost:8080/",
          "height": 357
        }
      },
      "source": [
        "for Num in range(1, 21):\n",
        "    print(Num)"
      ],
      "execution_count": 0,
      "outputs": [
        {
          "output_type": "stream",
          "text": [
            "1\n",
            "2\n",
            "3\n",
            "4\n",
            "5\n",
            "6\n",
            "7\n",
            "8\n",
            "9\n",
            "10\n",
            "11\n",
            "12\n",
            "13\n",
            "14\n",
            "15\n",
            "16\n",
            "17\n",
            "18\n",
            "19\n",
            "20\n"
          ],
          "name": "stdout"
        }
      ]
    },
    {
      "cell_type": "code",
      "metadata": {
        "id": "LcJI9usr7onI",
        "colab_type": "code",
        "colab": {}
      },
      "source": [
        ""
      ],
      "execution_count": 0,
      "outputs": []
    },
    {
      "cell_type": "code",
      "metadata": {
        "id": "cO3T_Bgn7onO",
        "colab_type": "code",
        "colab": {}
      },
      "source": [
        ""
      ],
      "execution_count": 0,
      "outputs": []
    },
    {
      "cell_type": "markdown",
      "metadata": {
        "id": "pPrvyceG7onS",
        "colab_type": "text"
      },
      "source": [
        "# Q4:"
      ]
    },
    {
      "cell_type": "markdown",
      "metadata": {
        "id": "trZDCX0j7onU",
        "colab_type": "text"
      },
      "source": [
        "Use the third argument of the range() function to make a list\n",
        "of the odd numbers from 1 to 20. Use a for loop to print each number."
      ]
    },
    {
      "cell_type": "code",
      "metadata": {
        "id": "qPCmn9ln7onV",
        "colab_type": "code",
        "outputId": "f00489a6-78ad-4d59-8037-a813512c838f",
        "colab": {
          "base_uri": "https://localhost:8080/",
          "height": 34
        }
      },
      "source": [
        "for Num in range(1, 21, 2): #Odd Num\n",
        "    print(Num, end = ' ')\n",
        "\n"
      ],
      "execution_count": 0,
      "outputs": [
        {
          "output_type": "stream",
          "text": [
            "1 3 5 7 9 11 13 15 17 19 "
          ],
          "name": "stdout"
        }
      ]
    },
    {
      "cell_type": "code",
      "metadata": {
        "id": "CIMTQxvg7onb",
        "colab_type": "code",
        "colab": {}
      },
      "source": [
        ""
      ],
      "execution_count": 0,
      "outputs": []
    },
    {
      "cell_type": "code",
      "metadata": {
        "id": "g5u84qj57onf",
        "colab_type": "code",
        "colab": {}
      },
      "source": [
        ""
      ],
      "execution_count": 0,
      "outputs": []
    },
    {
      "cell_type": "markdown",
      "metadata": {
        "id": "X5OoCJph7onk",
        "colab_type": "text"
      },
      "source": [
        "# Q5:"
      ]
    },
    {
      "cell_type": "markdown",
      "metadata": {
        "id": "gdGc0DZ27onk",
        "colab_type": "text"
      },
      "source": [
        "Make a list of the multiples of 3 from 3 to 30. Use a for loop to\n",
        "print the numbers in your list."
      ]
    },
    {
      "cell_type": "code",
      "metadata": {
        "id": "P_Ec4b0d7onl",
        "colab_type": "code",
        "outputId": "3309932b-a2f2-4980-ec69-1b281abebe2a",
        "colab": {
          "base_uri": "https://localhost:8080/",
          "height": 187
        }
      },
      "source": [
        "for multiple in range(1, 11):\n",
        "    print(multiple*3)\n"
      ],
      "execution_count": 0,
      "outputs": [
        {
          "output_type": "stream",
          "text": [
            "3\n",
            "6\n",
            "9\n",
            "12\n",
            "15\n",
            "18\n",
            "21\n",
            "24\n",
            "27\n",
            "30\n"
          ],
          "name": "stdout"
        }
      ]
    },
    {
      "cell_type": "code",
      "metadata": {
        "id": "qmnobb557onr",
        "colab_type": "code",
        "colab": {}
      },
      "source": [
        ""
      ],
      "execution_count": 0,
      "outputs": []
    },
    {
      "cell_type": "code",
      "metadata": {
        "id": "F6894Whv7ont",
        "colab_type": "code",
        "colab": {}
      },
      "source": [
        ""
      ],
      "execution_count": 0,
      "outputs": []
    },
    {
      "cell_type": "code",
      "metadata": {
        "id": "lpcwKPPj7onw",
        "colab_type": "code",
        "colab": {}
      },
      "source": [
        ""
      ],
      "execution_count": 0,
      "outputs": []
    },
    {
      "cell_type": "markdown",
      "metadata": {
        "id": "dhPHIxs47onz",
        "colab_type": "text"
      },
      "source": [
        "# Q6:"
      ]
    },
    {
      "cell_type": "markdown",
      "metadata": {
        "id": "qhfftwSH7on0",
        "colab_type": "text"
      },
      "source": [
        "A number raised to the third power is called a cube. For example,\n",
        "the cube of 2 is written as 2**3 in Python. Make a list of the first 10 cubes (that\n",
        "is, the cube of each integer from 1 through 10), and use a for loop to print out\n",
        "the value of each cube"
      ]
    },
    {
      "cell_type": "code",
      "metadata": {
        "id": "snmGS2EP7on1",
        "colab_type": "code",
        "outputId": "14a4cf6c-2e4a-4548-ed69-a4c61b883c39",
        "colab": {
          "base_uri": "https://localhost:8080/",
          "height": 185
        }
      },
      "source": [
        "for value  in range(1, 11):\n",
        "    print(value**3)"
      ],
      "execution_count": 0,
      "outputs": [
        {
          "output_type": "stream",
          "text": [
            "1\n",
            "8\n",
            "27\n",
            "64\n",
            "125\n",
            "216\n",
            "343\n",
            "512\n",
            "729\n",
            "1000\n"
          ],
          "name": "stdout"
        }
      ]
    },
    {
      "cell_type": "code",
      "metadata": {
        "id": "Vp8Wa5Be7on5",
        "colab_type": "code",
        "colab": {}
      },
      "source": [
        ""
      ],
      "execution_count": 0,
      "outputs": []
    },
    {
      "cell_type": "code",
      "metadata": {
        "id": "QSrM7hIr7ooD",
        "colab_type": "code",
        "colab": {}
      },
      "source": [
        ""
      ],
      "execution_count": 0,
      "outputs": []
    },
    {
      "cell_type": "code",
      "metadata": {
        "id": "nfdQQMvR7ooI",
        "colab_type": "code",
        "colab": {}
      },
      "source": [
        ""
      ],
      "execution_count": 0,
      "outputs": []
    },
    {
      "cell_type": "markdown",
      "metadata": {
        "id": "CxM1ccGW7ooM",
        "colab_type": "text"
      },
      "source": [
        "# Q7:"
      ]
    },
    {
      "cell_type": "markdown",
      "metadata": {
        "id": "IsgoP2iB7ooO",
        "colab_type": "text"
      },
      "source": [
        "###### Make a python program that conatains your nine favourite dishes in a list called foods.\n",
        "\n",
        "###### Print the message, The first three items in the list are:. \n",
        "###### Then use a slice to print the first three items from that program’s list.\n",
        "\n",
        "###### Print the message, Three items from the middle of the list are:\n",
        "###### Use a slice to print three items from the middle of the list.\n",
        "\n",
        "###### Print the message, The last three items in the list are:\n",
        "###### Use a slice to print the last three items in the list."
      ]
    },
    {
      "cell_type": "code",
      "metadata": {
        "id": "X6WU9eQ47ooR",
        "colab_type": "code",
        "outputId": "3da8d995-96fd-4b6e-8967-f89f5b6a5968",
        "colab": {
          "base_uri": "https://localhost:8080/",
          "height": 255
        }
      },
      "source": [
        "foods = ['Mutton Karachi' , 'Qunna' , 'Malai Boti' , 'Sheep meat' , 'pizza' , 'Biryani' , 'Broast' , 'Ice cream' , 'Pepsi']\n",
        "print(\"The First three items of the list are: \")\n",
        "for breakfast in foods[0:3]:\n",
        "    print(\"\\t-\" + breakfast)\n",
        "print(\"\\nThe second three items of the list are: \")\n",
        "for lunch in foods[3:6]:\n",
        "    print(\"\\t-\"+lunch)\n",
        "print(\"\\nThe last three items of the list are: \")\n",
        "for dinner in foods[6:9]:\n",
        "    print(\"\\t-\" + dinner)\n",
        "\n"
      ],
      "execution_count": 4,
      "outputs": [
        {
          "output_type": "stream",
          "text": [
            "The First three items of the list are: \n",
            "\t-Mutton Karachi\n",
            "\t-Qunna\n",
            "\t-Malai Boti\n",
            "\n",
            "The second three items of the list are: \n",
            "\t-Sheep meat\n",
            "\t-pizza\n",
            "\t-Biryani\n",
            "\n",
            "The last three items of the list are: \n",
            "\t-Broast\n",
            "\t-Ice cream\n",
            "\t-Pepsi\n"
          ],
          "name": "stdout"
        }
      ]
    },
    {
      "cell_type": "code",
      "metadata": {
        "id": "IQaV7SXE7ooV",
        "colab_type": "code",
        "colab": {}
      },
      "source": [
        ""
      ],
      "execution_count": 0,
      "outputs": []
    },
    {
      "cell_type": "code",
      "metadata": {
        "id": "nOr3qq5GrG8e",
        "colab_type": "code",
        "colab": {}
      },
      "source": [
        ""
      ],
      "execution_count": 0,
      "outputs": []
    },
    {
      "cell_type": "code",
      "metadata": {
        "id": "jep1fTLb7ooY",
        "colab_type": "code",
        "colab": {}
      },
      "source": [
        ""
      ],
      "execution_count": 0,
      "outputs": []
    },
    {
      "cell_type": "code",
      "metadata": {
        "id": "ALrzajPX7oob",
        "colab_type": "code",
        "colab": {}
      },
      "source": [
        ""
      ],
      "execution_count": 0,
      "outputs": []
    },
    {
      "cell_type": "code",
      "metadata": {
        "id": "bxnyIxjd7ood",
        "colab_type": "code",
        "colab": {}
      },
      "source": [
        ""
      ],
      "execution_count": 0,
      "outputs": []
    },
    {
      "cell_type": "code",
      "metadata": {
        "id": "Vvjb4oKF7oof",
        "colab_type": "code",
        "colab": {}
      },
      "source": [
        ""
      ],
      "execution_count": 0,
      "outputs": []
    },
    {
      "cell_type": "code",
      "metadata": {
        "id": "VZCXejlp7ooi",
        "colab_type": "code",
        "colab": {}
      },
      "source": [
        ""
      ],
      "execution_count": 0,
      "outputs": []
    },
    {
      "cell_type": "markdown",
      "metadata": {
        "id": "zofa9nXG7ool",
        "colab_type": "text"
      },
      "source": [
        "# Q8:"
      ]
    },
    {
      "cell_type": "markdown",
      "metadata": {
        "id": "UtmrJX117ool",
        "colab_type": "text"
      },
      "source": [
        "### Start with your program from your last Question8.\n",
        "###### Make a copy of the list of foods, and call it friend_foods.\n",
        "###### Then, do the following:\n",
        "######    Add a new dish to the original list.\n",
        "######    Add a different dish to the list friend_foodss.\n",
        "######    Prove that you have two separate lists. \n",
        "###### Print the message, My favorite pizzas are: and then use a for loop to print the first list. \n",
        "###### Print the message,\n",
        "###### My friend’s favorite foods are:, and then use a for loop to print the second list.\n",
        "    \n",
        "##### NOTE: Make sure each new dish is stored in the appropriate list."
      ]
    },
    {
      "cell_type": "code",
      "metadata": {
        "id": "UjT8nnwh7oom",
        "colab_type": "code",
        "outputId": "ef452f9a-06f8-4bcb-d405-fa8211764f72",
        "colab": {
          "base_uri": "https://localhost:8080/",
          "height": 289
        }
      },
      "source": [
        "my_favourite_food = [\"biryani\" , \"fries\" , \"zinger\" , \"smoothie\"]\n",
        "my_friends_fav_food = my_favourite_food.copy()\n",
        "my_favourite_food.append('salsaa')\n",
        "\n",
        "my_friends_fav_food.append('pasta')\n",
        "my_favourite_food.copy()\n",
        "\n",
        "\n",
        "print('\\n my_favourite_food are: \\n') \n",
        "for foods in my_favourite_food:\n",
        "  print(foods)\n",
        "print(\"\\n my_friends_fav_food are :\\n\")\n",
        "for foods in my_friends_fav_food:\n",
        "  print(foods)\n"
      ],
      "execution_count": 0,
      "outputs": [
        {
          "output_type": "stream",
          "text": [
            "\n",
            " my_favourite_food are: \n",
            "\n",
            "biryani\n",
            "fries\n",
            "zinger\n",
            "smoothie\n",
            "salsaa\n",
            "\n",
            " my_friends_fav_food are :\n",
            "\n",
            "biryani\n",
            "fries\n",
            "zinger\n",
            "smoothie\n",
            "pasta\n"
          ],
          "name": "stdout"
        }
      ]
    },
    {
      "cell_type": "code",
      "metadata": {
        "id": "_VbA5oyW7oor",
        "colab_type": "code",
        "colab": {}
      },
      "source": [
        ""
      ],
      "execution_count": 0,
      "outputs": []
    },
    {
      "cell_type": "code",
      "metadata": {
        "id": "vj_29MMG7oou",
        "colab_type": "code",
        "colab": {}
      },
      "source": [
        ""
      ],
      "execution_count": 0,
      "outputs": []
    },
    {
      "cell_type": "code",
      "metadata": {
        "id": "mWcEDEMP7oo5",
        "colab_type": "code",
        "colab": {}
      },
      "source": [
        ""
      ],
      "execution_count": 0,
      "outputs": []
    },
    {
      "cell_type": "code",
      "metadata": {
        "id": "L9wn9XnP7oo8",
        "colab_type": "code",
        "colab": {}
      },
      "source": [
        ""
      ],
      "execution_count": 0,
      "outputs": []
    },
    {
      "cell_type": "code",
      "metadata": {
        "id": "LdHoNNkK7oo_",
        "colab_type": "code",
        "colab": {}
      },
      "source": [
        " "
      ],
      "execution_count": 0,
      "outputs": []
    },
    {
      "cell_type": "code",
      "metadata": {
        "id": "pZkmd-Go7opE",
        "colab_type": "code",
        "colab": {}
      },
      "source": [
        ""
      ],
      "execution_count": 0,
      "outputs": []
    },
    {
      "cell_type": "markdown",
      "metadata": {
        "id": "kGwhpLzJ7opH",
        "colab_type": "text"
      },
      "source": [
        "# Q9:"
      ]
    },
    {
      "cell_type": "markdown",
      "metadata": {
        "id": "QjFiQato7opI",
        "colab_type": "text"
      },
      "source": [
        "Take a user input from console line.Store it in a variable called Alien_color.\n",
        "\n",
        "If the alien’s color is red, print a statement that the player just earned 5 points for shooting the alien.\n",
        "\n",
        "If the alien’s color isn’t green, print a statement that the player just earned 10 points.\n",
        "\n",
        "If the alien's color isn't red or green , print a statment :, Alien is no more....."
      ]
    },
    {
      "cell_type": "code",
      "metadata": {
        "id": "RPvrtiJe7opJ",
        "colab_type": "code",
        "outputId": "5147cab9-c56d-49fb-b87a-b75ae88ca1d1",
        "colab": {
          "base_uri": "https://localhost:8080/",
          "height": 51
        }
      },
      "source": [
        "Alien_color=input ('enter your colour: ')\n",
        "if Alien_color=='red':\n",
        "    print('The player just earned 5 points for shooting the alien.')\n",
        "elif Alien_color!='green':\n",
        "    print('The player just earned 10 points')\n",
        "else:\n",
        "    print('Alien is no more.....')\n"
      ],
      "execution_count": 0,
      "outputs": [
        {
          "output_type": "stream",
          "text": [
            "enter your colour: green\n",
            "Alien is no more.....\n"
          ],
          "name": "stdout"
        }
      ]
    },
    {
      "cell_type": "code",
      "metadata": {
        "id": "tsTtYWwE7opR",
        "colab_type": "code",
        "colab": {}
      },
      "source": [
        ""
      ],
      "execution_count": 0,
      "outputs": []
    },
    {
      "cell_type": "code",
      "metadata": {
        "id": "KKx6YUZ17opX",
        "colab_type": "code",
        "colab": {}
      },
      "source": [
        ""
      ],
      "execution_count": 0,
      "outputs": []
    },
    {
      "cell_type": "code",
      "metadata": {
        "id": "ID_nf4L17opa",
        "colab_type": "code",
        "colab": {}
      },
      "source": [
        ""
      ],
      "execution_count": 0,
      "outputs": []
    },
    {
      "cell_type": "markdown",
      "metadata": {
        "id": "44LbSMPZ7opc",
        "colab_type": "text"
      },
      "source": [
        "# Q10:"
      ]
    },
    {
      "cell_type": "markdown",
      "metadata": {
        "id": "-R_ytQxu7opc",
        "colab_type": "text"
      },
      "source": [
        "Write an if-elif-else chain that determines a person’s\n",
        "stage of life. Set a value for the variable age, and then:\n",
        "    \n",
        "•\t If the person is less than 2 years old, print a message that the person is a baby.\n",
        "\n",
        "•\t If the person is at least 2 years old but less than 4, print a message that the person is a toddler.\n",
        "\n",
        "•\t If the person is at least 4 years old but less than 13, print a message that the person is a kid.\n",
        "\n",
        "•\t If the person is at least 13 years old but less than 20, print a message that the person is a teenager.\n",
        "\n",
        "•\t If the person is at least 20 years old but less than 65, print a message that the person is an adult.\n",
        "\n",
        "•\t If the person is age 65 or older, print a message that the person is an elder."
      ]
    },
    {
      "cell_type": "code",
      "metadata": {
        "id": "wgQ4ck3I7opd",
        "colab_type": "code",
        "outputId": "c41d7f5f-0331-4e57-cba3-ecf99ff6f07c",
        "colab": {
          "base_uri": "https://localhost:8080/",
          "height": 50
        }
      },
      "source": [
        "age = int(input('enter your age: '))\n",
        "if age <2:\n",
        "  print('the person is a baby')\n",
        "elif age <=2 or age <4:\n",
        "  print('the person is a toddler')\n",
        "elif age <=4 or age <13:\n",
        "  print('the person is a kid')\n",
        "elif age <=13 or age <20:\n",
        "  print('the person is a teenager')\n",
        "elif age <=20 or age <65:\n",
        "  print('the person is an adult')\n",
        "else:\n",
        "  print('the person is an elder')\n",
        "  \n",
        "  \n",
        "  \n",
        "  \n",
        "  \n",
        "  \n",
        "  \n",
        "  \n",
        "  \n",
        "  \n",
        "  \n",
        "  \n",
        "  \n",
        "  \n",
        "  \n",
        "  \n",
        "  \n",
        "  "
      ],
      "execution_count": 0,
      "outputs": [
        {
          "output_type": "stream",
          "text": [
            "enter your age: 70\n",
            "the person is an elder\n"
          ],
          "name": "stdout"
        }
      ]
    },
    {
      "cell_type": "code",
      "metadata": {
        "id": "uluAN4YD7opg",
        "colab_type": "code",
        "colab": {}
      },
      "source": [
        ""
      ],
      "execution_count": 0,
      "outputs": []
    },
    {
      "cell_type": "code",
      "metadata": {
        "id": "2-tLUAM57opj",
        "colab_type": "code",
        "colab": {}
      },
      "source": [
        ""
      ],
      "execution_count": 0,
      "outputs": []
    },
    {
      "cell_type": "code",
      "metadata": {
        "id": "hKFZnKPh7opl",
        "colab_type": "code",
        "colab": {}
      },
      "source": [
        ""
      ],
      "execution_count": 0,
      "outputs": []
    },
    {
      "cell_type": "code",
      "metadata": {
        "id": "5i3CHo2v7opm",
        "colab_type": "code",
        "colab": {}
      },
      "source": [
        ""
      ],
      "execution_count": 0,
      "outputs": []
    },
    {
      "cell_type": "code",
      "metadata": {
        "id": "sfsE407q7opu",
        "colab_type": "code",
        "colab": {}
      },
      "source": [
        ""
      ],
      "execution_count": 0,
      "outputs": []
    },
    {
      "cell_type": "markdown",
      "metadata": {
        "id": "DdfIwwCs7opx",
        "colab_type": "text"
      },
      "source": [
        "# Q11:"
      ]
    },
    {
      "cell_type": "markdown",
      "metadata": {
        "id": "El250h9D7opy",
        "colab_type": "text"
      },
      "source": [
        "Do the following to create a program that simulates how websites ensure that everyone has a unique username.\n",
        "\n",
        "•\t Make a list of five or more usernames called current_users.\n",
        "\n",
        "•\t Make another list of five usernames called new_users. \n",
        "Make sure one or two of the new usernames are also in the current_users list.\n",
        "\n",
        "•\t Loop through the new_users list to see if each new username has already been used. \n",
        "If it has, print a message that the person will need to enter a new username. \n",
        "If a username has not been used, print a message saying that the username is available.\n",
        "\n",
        "•\t Make sure your comparison is case insensitive. If 'John' has been used, 'JOHN' should not be accepted."
      ]
    },
    {
      "cell_type": "code",
      "metadata": {
        "id": "G9skgD0g7op5",
        "colab_type": "code",
        "colab": {}
      },
      "source": [
        "current_user = ['WAFA' , 'ALI' , 'FAHAD' , 'ZAID']\n",
        "new_user = ['ALI' , 'ZAID' , 'BISMA' , 'ANIYA' , 'RAHIMA']\n"
      ],
      "execution_count": 0,
      "outputs": []
    },
    {
      "cell_type": "code",
      "metadata": {
        "id": "AGkWvrL07op_",
        "colab_type": "code",
        "outputId": "4dabd45d-61ef-4e11-f9f4-319980cc1463",
        "colab": {
          "base_uri": "https://localhost:8080/",
          "height": 221
        }
      },
      "source": [
        "for new_users in new_user:\n",
        "  names = new_users.upper()\n",
        "  if names in current_user:\n",
        "    print(f\"\\n{names} , this name is already taken\\nplease change your name....\")\n",
        "  else:\n",
        "    print(f\"\\n{names} your name is added to database..\")\n",
        "    "
      ],
      "execution_count": 0,
      "outputs": [
        {
          "output_type": "stream",
          "text": [
            "\n",
            "ALI , this name is already taken\n",
            "please change your name....\n",
            "\n",
            "ZAID , this name is already taken\n",
            "please change your name....\n",
            "\n",
            "BISMA your name is added to database..\n",
            "\n",
            "ANIYA your name is added to database..\n",
            "\n",
            "RAHIMA your name is added to database..\n"
          ],
          "name": "stdout"
        }
      ]
    },
    {
      "cell_type": "code",
      "metadata": {
        "id": "PfO2-zsS7oqC",
        "colab_type": "code",
        "colab": {}
      },
      "source": [
        ""
      ],
      "execution_count": 0,
      "outputs": []
    },
    {
      "cell_type": "code",
      "metadata": {
        "id": "eOGPf0dq7oqF",
        "colab_type": "code",
        "colab": {}
      },
      "source": [
        ""
      ],
      "execution_count": 0,
      "outputs": []
    },
    {
      "cell_type": "markdown",
      "metadata": {
        "id": "Qrpya8pG7oqK",
        "colab_type": "text"
      },
      "source": [
        "# Q12:"
      ]
    },
    {
      "cell_type": "markdown",
      "metadata": {
        "id": "YCS64PZy7oqM",
        "colab_type": "text"
      },
      "source": [
        "Use a dictionary to store information about a person you know.\n",
        "Store their first name, last name, age, and the city in which they live. \n",
        "You should have keys such as first_name, last_name, age, and city. \n",
        "Print each piece of information stored in your dictionary"
      ]
    },
    {
      "cell_type": "code",
      "metadata": {
        "id": "4NsQt8gV7oqN",
        "colab_type": "code",
        "outputId": "5efcce08-8354-41a7-c378-790d04c72e60",
        "colab": {
          "base_uri": "https://localhost:8080/",
          "height": 84
        }
      },
      "source": [
        "Person = {\"First_name\": \"Bisma\" , \"Last_name\": \"Siddiqui\" , \"Age\": 23 , \"City\": \"Karachi\"}\n",
        "print(\"First_name: \" + Person[\"First_name\"])\n",
        "print(\"Last_name:\" + Person[\"Last_name\"])\n",
        "print(\"Age:\" + str(Person[\"Age\"]))\n",
        "print(\"City:\" + Person[\"City\"])\n"
      ],
      "execution_count": 0,
      "outputs": [
        {
          "output_type": "stream",
          "text": [
            "First_name: Bisma\n",
            "Last_name:Siddiqui\n",
            "Age:23\n",
            "City:Karachi\n"
          ],
          "name": "stdout"
        }
      ]
    },
    {
      "cell_type": "code",
      "metadata": {
        "id": "dg9kmhpD7oqQ",
        "colab_type": "code",
        "colab": {}
      },
      "source": [
        ""
      ],
      "execution_count": 0,
      "outputs": []
    },
    {
      "cell_type": "code",
      "metadata": {
        "id": "Wf8rJNWW7oqV",
        "colab_type": "code",
        "colab": {}
      },
      "source": [
        ""
      ],
      "execution_count": 0,
      "outputs": []
    },
    {
      "cell_type": "code",
      "metadata": {
        "id": "yly27a3h7oqX",
        "colab_type": "code",
        "colab": {}
      },
      "source": [
        ""
      ],
      "execution_count": 0,
      "outputs": []
    },
    {
      "cell_type": "markdown",
      "metadata": {
        "id": "im5WA-Wr7oqa",
        "colab_type": "text"
      },
      "source": [
        "# Q13:"
      ]
    },
    {
      "cell_type": "markdown",
      "metadata": {
        "id": "ccHygQuH7oqd",
        "colab_type": "text"
      },
      "source": [
        "Starts with your last question 12 , loop through the dictionary’s keys and values.\n",
        "When you’re sure that your loop works, add five more Python terms to your\n",
        "dictionary . When you run your program again, these new words and meanings\n",
        "should automatically be included in the output."
      ]
    },
    {
      "cell_type": "code",
      "metadata": {
        "id": "CxS89Scw7oqi",
        "colab_type": "code",
        "outputId": "b1370fdf-e259-4a19-c767-3d240104571f",
        "colab": {
          "base_uri": "https://localhost:8080/",
          "height": 102
        }
      },
      "source": [
        "Person = {\"First_name\": \"wafa\" , \"Last_name\": \"ikram\" , \"Age\": \"20\" , \"City\": \"Karachi\" , \"Contact\": \"03088087801\" , }\n",
        "\n",
        "for key, value in Person.items():\n",
        "    print(key + \": \" + value)\n"
      ],
      "execution_count": 0,
      "outputs": [
        {
          "output_type": "stream",
          "text": [
            "First_name: wafa\n",
            "Last_name: ikram\n",
            "Age: 20\n",
            "City: Karachi\n",
            "Contact: 03088087801\n"
          ],
          "name": "stdout"
        }
      ]
    },
    {
      "cell_type": "code",
      "metadata": {
        "id": "pnWG-RHd7oqn",
        "colab_type": "code",
        "outputId": "b3c1924f-da69-4d08-8cf1-48c7a3a67b54",
        "colab": {
          "base_uri": "https://localhost:8080/",
          "height": 187
        }
      },
      "source": [
        "Person[\"print\"] = \"print the statement\"\n",
        "Person[\"pass\"] = \"to pass\"\n",
        "Person[\"if\"] = \"condition\"\n",
        "Person[\"break\"] = \"to stop a loop\"\n",
        "Person[\"else\"] = \"other condition\"\n",
        "\n",
        "for key, value in Person.items():\n",
        "    print(key + \": \" + value)\n",
        "\n"
      ],
      "execution_count": 0,
      "outputs": [
        {
          "output_type": "stream",
          "text": [
            "First_name: wafa\n",
            "Last_name: ikram\n",
            "Age: 20\n",
            "City: Karachi\n",
            "Contact: 03088087801\n",
            "print: print the statement\n",
            "pass: to pass\n",
            "if: condition\n",
            "break: to stop a loop\n",
            "else: other condition\n"
          ],
          "name": "stdout"
        }
      ]
    },
    {
      "cell_type": "code",
      "metadata": {
        "id": "3XDKkm_67oqq",
        "colab_type": "code",
        "colab": {}
      },
      "source": [
        " "
      ],
      "execution_count": 0,
      "outputs": []
    },
    {
      "cell_type": "code",
      "metadata": {
        "id": "36cYrDtS7oq3",
        "colab_type": "code",
        "colab": {}
      },
      "source": [
        ""
      ],
      "execution_count": 0,
      "outputs": []
    },
    {
      "cell_type": "code",
      "metadata": {
        "id": "vQ5G_0117oq7",
        "colab_type": "code",
        "colab": {}
      },
      "source": [
        ""
      ],
      "execution_count": 0,
      "outputs": []
    },
    {
      "cell_type": "markdown",
      "metadata": {
        "id": "7f-SCZLV7orD",
        "colab_type": "text"
      },
      "source": [
        "# Q14:"
      ]
    },
    {
      "cell_type": "markdown",
      "metadata": {
        "id": "-bE3wGMA7orE",
        "colab_type": "text"
      },
      "source": [
        "Make a dictionary containing three major rivers and the country\n",
        "each river runs through. One key-value pair might be 'nile': 'egypt'.\n",
        "    \n",
        "    \n",
        "•\t Use a loop to print a sentence about each river, such as The Nile runs\n",
        "through Egypt.\n",
        "\n",
        "NOTE: use upper case through keys and values."
      ]
    },
    {
      "cell_type": "code",
      "metadata": {
        "id": "2_T06Tgg7orF",
        "colab_type": "code",
        "outputId": "72951cf0-485e-4c28-e7d9-5966903b888c",
        "colab": {
          "base_uri": "https://localhost:8080/",
          "height": 67
        }
      },
      "source": [
        "rivers = {\"nile\": \"egypt\", \"chaophraya\": \"thiland\", \"tigris\": \"iraq\"}\n",
        "\n",
        "for river, country in rivers.items():\n",
        "    print(\"The \" + river.upper() + \" runs through \" + country.upper() + \".\")\n",
        "\n"
      ],
      "execution_count": 0,
      "outputs": [
        {
          "output_type": "stream",
          "text": [
            "The NILE runs through EGYPT.\n",
            "The CHAOPHRAYA runs through THILAND.\n",
            "The TIGRIS runs through IRAQ.\n"
          ],
          "name": "stdout"
        }
      ]
    },
    {
      "cell_type": "code",
      "metadata": {
        "id": "otty-Yzs7orI",
        "colab_type": "code",
        "colab": {}
      },
      "source": [
        ""
      ],
      "execution_count": 0,
      "outputs": []
    },
    {
      "cell_type": "code",
      "metadata": {
        "id": "1fUHBc7g7orK",
        "colab_type": "code",
        "colab": {}
      },
      "source": [
        ""
      ],
      "execution_count": 0,
      "outputs": []
    },
    {
      "cell_type": "markdown",
      "metadata": {
        "id": "lFbMHumb7orM",
        "colab_type": "text"
      },
      "source": [
        "# Q15:"
      ]
    },
    {
      "cell_type": "markdown",
      "metadata": {
        "id": "Nh4U4IB87orM",
        "colab_type": "text"
      },
      "source": [
        "Make several dictionaries, where the name of each dictionary is the\n",
        "name of a pet. In each dictionary, include the kind of animal and the owner’s\n",
        "name. Store these dictionaries in a list called pets. Next, loop through your list\n",
        "and as you do print everything you know about each pet."
      ]
    },
    {
      "cell_type": "code",
      "metadata": {
        "id": "yOgnFhfR7orN",
        "colab_type": "code",
        "outputId": "e245cee2-2fe7-4aec-e415-d994e774dbba",
        "colab": {
          "base_uri": "https://localhost:8080/",
          "height": 168
        }
      },
      "source": [
        "dict1 = {'pet1' : 'cow' , 'ownwer01' : 'noman' , 'kind' : 'mammal'}\n",
        "dict2 = {'pet2' : 'horse' , 'ownwer02' : 'waleed' , 'kind' : 'mammal'}\n",
        "dict3 = {'pet3' : 'cat' , 'ownwer03' : 'wahaj' , 'kind' : 'mammal'}\n",
        "pets = [dict1,dict2,dict3]\n",
        "for pet in pets :\n",
        "  for keys,values in pet.items() :\n",
        "    print(f'{keys} : {values}')\n",
        "\n",
        "\n",
        "\n"
      ],
      "execution_count": 0,
      "outputs": [
        {
          "output_type": "stream",
          "text": [
            "pet1 : cow\n",
            "ownwer01 : noman\n",
            "kind : mammal\n",
            "pet2 : horse\n",
            "ownwer02 : waleed\n",
            "kind : mammal\n",
            "pet3 : cat\n",
            "ownwer03 : wahaj\n",
            "kind : mammal\n"
          ],
          "name": "stdout"
        }
      ]
    },
    {
      "cell_type": "code",
      "metadata": {
        "id": "RQXlEG_GAsbc",
        "colab_type": "code",
        "colab": {}
      },
      "source": [
        ""
      ],
      "execution_count": 0,
      "outputs": []
    }
  ]
}